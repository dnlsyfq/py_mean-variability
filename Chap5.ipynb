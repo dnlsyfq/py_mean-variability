{
 "cells": [
  {
   "cell_type": "code",
   "execution_count": 20,
   "metadata": {},
   "outputs": [],
   "source": [
    "import pandas as pd\n",
    "import matplotlib.pyplot as plt\n",
    "import numpy as np\n",
    "import seaborn as sns"
   ]
  },
  {
   "cell_type": "code",
   "execution_count": 2,
   "metadata": {},
   "outputs": [
    {
     "name": "stdout",
     "output_type": "stream",
     "text": [
      " Volume in drive C has no label.\n",
      " Volume Serial Number is E070-DF93\n",
      "\n",
      " Directory of C:\\Users\\Dan\\Code\\PYTHON\\py_mean-variability\n",
      "\n",
      "20/06/2020  08:39 PM    <DIR>          .\n",
      "20/06/2020  08:39 PM    <DIR>          ..\n",
      "20/06/2020  08:39 PM    <DIR>          .ipynb_checkpoints\n",
      "20/06/2020  08:32 PM           995,953 AmesHousing_1.txt\n",
      "20/06/2020  08:32 PM            52,624 Chap 2.ipynb\n",
      "20/06/2020  08:32 PM            65,025 Chap1.ipynb\n",
      "20/06/2020  08:32 PM            71,677 Chap3.ipynb\n",
      "20/06/2020  08:36 PM            48,906 Chap4.ipynb\n",
      "20/06/2020  08:38 PM                72 Chap5.ipynb\n",
      "20/06/2020  08:32 PM            14,023 data_description.txt\n",
      "20/06/2020  08:32 PM    <DIR>          img\n",
      "20/06/2020  08:32 PM                21 README.md\n",
      "               8 File(s)      1,248,301 bytes\n",
      "               4 Dir(s)  19,632,439,296 bytes free\n"
     ]
    }
   ],
   "source": [
    "ls"
   ]
  },
  {
   "cell_type": "code",
   "execution_count": 3,
   "metadata": {},
   "outputs": [],
   "source": [
    "houses = pd.read_table(\"AmesHousing_1.txt\")"
   ]
  },
  {
   "cell_type": "code",
   "execution_count": 5,
   "metadata": {},
   "outputs": [
    {
     "data": {
      "text/plain": [
       "Index(['Order', 'PID', 'MS SubClass', 'MS Zoning', 'Lot Frontage', 'Lot Area',\n",
       "       'Street', 'Alley', 'Lot Shape', 'Land Contour', 'Utilities',\n",
       "       'Lot Config', 'Land Slope', 'Neighborhood', 'Condition 1',\n",
       "       'Condition 2', 'Bldg Type', 'House Style', 'Overall Qual',\n",
       "       'Overall Cond', 'Year Built', 'Year Remod/Add', 'Roof Style',\n",
       "       'Roof Matl', 'Exterior 1st', 'Exterior 2nd', 'Mas Vnr Type',\n",
       "       'Mas Vnr Area', 'Exter Qual', 'Exter Cond', 'Foundation', 'Bsmt Qual',\n",
       "       'Bsmt Cond', 'Bsmt Exposure', 'BsmtFin Type 1', 'BsmtFin SF 1',\n",
       "       'BsmtFin Type 2', 'BsmtFin SF 2', 'Bsmt Unf SF', 'Total Bsmt SF',\n",
       "       'Heating', 'Heating QC', 'Central Air', 'Electrical', '1st Flr SF',\n",
       "       '2nd Flr SF', 'Low Qual Fin SF', 'Gr Liv Area', 'Bsmt Full Bath',\n",
       "       'Bsmt Half Bath', 'Full Bath', 'Half Bath', 'Bedroom AbvGr',\n",
       "       'Kitchen AbvGr', 'Kitchen Qual', 'TotRms AbvGrd', 'Functional',\n",
       "       'Fireplaces', 'Fireplace Qu', 'Garage Type', 'Garage Yr Blt',\n",
       "       'Garage Finish', 'Garage Cars', 'Garage Area', 'Garage Qual',\n",
       "       'Garage Cond', 'Paved Drive', 'Wood Deck SF', 'Open Porch SF',\n",
       "       'Enclosed Porch', '3Ssn Porch', 'Screen Porch', 'Pool Area', 'Pool QC',\n",
       "       'Fence', 'Misc Feature', 'Misc Val', 'Mo Sold', 'Yr Sold', 'Sale Type',\n",
       "       'Sale Condition', 'SalePrice'],\n",
       "      dtype='object')"
      ]
     },
     "execution_count": 5,
     "metadata": {},
     "output_type": "execute_result"
    }
   ],
   "source": [
    "houses.columns"
   ]
  },
  {
   "cell_type": "code",
   "execution_count": 6,
   "metadata": {},
   "outputs": [
    {
     "data": {
      "text/plain": [
       "2216    220000\n",
       "Name: SalePrice, dtype: int64"
      ]
     },
     "execution_count": 6,
     "metadata": {},
     "output_type": "execute_result"
    }
   ],
   "source": [
    "# random sample \n",
    "houses['SalePrice'].sample(1,random_state=0)"
   ]
  },
  {
   "cell_type": "code",
   "execution_count": 7,
   "metadata": {},
   "outputs": [
    {
     "data": {
      "text/plain": [
       "180796.0600682594"
      ]
     },
     "execution_count": 7,
     "metadata": {},
     "output_type": "execute_result"
    }
   ],
   "source": [
    "# mean\n",
    "houses['SalePrice'].mean()"
   ]
  },
  {
   "cell_type": "code",
   "execution_count": 13,
   "metadata": {},
   "outputs": [
    {
     "data": {
      "image/png": "[encoded data removed]",
      "text/plain": [
       "<Figure size 432x288 with 1 Axes>"
      ]
     },
     "metadata": {
      "needs_background": "light"
     },
     "output_type": "display_data"
    }
   ],
   "source": [
    "houses['SalePrice'].hist()\n",
    "plt.axvline(houses['SalePrice'].mean(),c='red')\n",
    "plt.show()"
   ]
  },
  {
   "cell_type": "markdown",
   "metadata": {},
   "source": [
    "How far off from the mean a value of $220,000 is in the distribution of the SalePrice variable"
   ]
  },
  {
   "cell_type": "code",
   "execution_count": 34,
   "metadata": {},
   "outputs": [
    {
     "data": {
      "text/plain": [
       "<matplotlib.legend.Legend at 0x1fe413e0208>"
      ]
     },
     "execution_count": 34,
     "metadata": {},
     "output_type": "execute_result"
    },
    {
     "data": {
      "image/png": "[encoded data removed]",
      "text/plain": [
       "<Figure size 432x288 with 1 Axes>"
      ]
     },
     "metadata": {
      "needs_background": "light"
     },
     "output_type": "display_data"
    }
   ],
   "source": [
    "houses['SalePrice'].plot.kde(xlim=[houses.SalePrice.min(),houses.SalePrice.max()])\n",
    "plt.axvline(houses['SalePrice'].mean(),c='green',label='Mean')\n",
    "plt.axvline(houses['SalePrice'].mean() + houses['SalePrice'].std(),c='red',label='Standard deviation')\n",
    "plt.axvline(220000,c='orange',label='220000')\n",
    "plt.legend()"
   ]
  },
  {
   "cell_type": "code",
   "execution_count": 36,
   "metadata": {},
   "outputs": [
    {
     "data": {
      "text/plain": [
       "79873.05865192253"
      ]
     },
     "execution_count": 36,
     "metadata": {},
     "output_type": "execute_result"
    }
   ],
   "source": [
    "houses['SalePrice'].std(ddof = 0) # without using Bessel's correction."
   ]
  },
  {
   "cell_type": "code",
   "execution_count": 37,
   "metadata": {},
   "outputs": [
    {
     "data": {
      "text/plain": [
       "79886.692356665"
      ]
     },
     "execution_count": 37,
     "metadata": {},
     "output_type": "execute_result"
    }
   ],
   "source": [
    "houses['SalePrice'].std()"
   ]
  },
  {
   "cell_type": "markdown",
   "metadata": {},
   "source": [
    "to find a faster and more precise way to measure how far off a value is from the mean (taking into account at the same time the standard deviation of the distribution)"
   ]
  },
  {
   "cell_type": "code",
   "execution_count": 40,
   "metadata": {},
   "outputs": [
    {
     "data": {
      "text/plain": [
       "0.4908280788718359"
      ]
     },
     "execution_count": 40,
     "metadata": {},
     "output_type": "execute_result"
    }
   ],
   "source": [
    "# Find out the number of standard deviations away from \n",
    "# the mean for a price of $220,000 in the distribution of the SalePrice variable.\n",
    "(220000 - houses['SalePrice'].mean())/houses['SalePrice'].std(ddof=0)"
   ]
  },
  {
   "cell_type": "markdown",
   "metadata": {},
   "source": [
    "If you can't understand why we divide, think about this way: if we have a distance of 6 and a standard deviation of 2, then that is three standard deviations away because 6/2 = 3"
   ]
  },
  {
   "cell_type": "markdown",
   "metadata": {},
   "source": [
    "* Finding the distance between the value and the mean (by subtracting the mean from that value).\n",
    "* Dividing the distance by the standard deviation of the distribution."
   ]
  },
  {
   "cell_type": "markdown",
   "metadata": {},
   "source": [
    "### Z Score\n",
    "*  value representing the number of standard deviations away from the mean is commonly known as the standard score, or the z-score\n",
    "\n",
    "<img src=\"img/s2m5_negative_z.svg\">\n",
    "\n",
    " z-score has two parts:\n",
    "\n",
    "* The sign, which indicates whether the value is above or below the mean.\n",
    "* The value, which indicates the number of standard deviations that a value is away from the mean.\n",
    "\n",
    "\n",
    "* population\n",
    "\n",
    "<center>\n",
    "$\\large z=\\large \\frac{x - \\mu}{\\sigma}$\n",
    "</center>\n",
    "\n",
    "* sample with basel correction\n",
    "\n",
    "<center>\n",
    "$\\large z=\\large \\frac{x - \\bar{x}}{s}$\n",
    "</center>"
   ]
  },
  {
   "cell_type": "code",
   "execution_count": 41,
   "metadata": {},
   "outputs": [],
   "source": [
    "min_val = houses['SalePrice'].min()\n",
    "mean_val = houses['SalePrice'].mean()\n",
    "max_val = houses['SalePrice'].max()"
   ]
  },
  {
   "cell_type": "code",
   "execution_count": 42,
   "metadata": {},
   "outputs": [],
   "source": [
    "def z_score(val,arr,n=0):\n",
    "    mean_v = arr.mean()\n",
    "    std_v = arr.std(ddof=n)\n",
    "    distance = val - mean_v\n",
    "    zscore = distance / std_v\n",
    "    return zscore\n",
    "    "
   ]
  },
  {
   "cell_type": "code",
   "execution_count": 43,
   "metadata": {},
   "outputs": [
    {
     "data": {
      "text/plain": [
       "-2.103425897340611"
      ]
     },
     "execution_count": 43,
     "metadata": {},
     "output_type": "execute_result"
    }
   ],
   "source": [
    "z_score(min_val,houses['SalePrice'])"
   ]
  },
  {
   "cell_type": "code",
   "execution_count": 44,
   "metadata": {},
   "outputs": [
    {
     "data": {
      "text/plain": [
       "0.0"
      ]
     },
     "execution_count": 44,
     "metadata": {},
     "output_type": "execute_result"
    }
   ],
   "source": [
    "z_score(mean_val,houses['SalePrice'])"
   ]
  },
  {
   "cell_type": "code",
   "execution_count": 45,
   "metadata": {},
   "outputs": [
    {
     "data": {
      "text/plain": [
       "7.188956446929802"
      ]
     },
     "execution_count": 45,
     "metadata": {},
     "output_type": "execute_result"
    }
   ],
   "source": [
    "z_score(max_val,houses['SalePrice'])"
   ]
  },
  {
   "cell_type": "code",
   "execution_count": 47,
   "metadata": {},
   "outputs": [],
   "source": [
    "neighbor = ['NAmes','CollgCr','OldTown','Edwards','Somerst']"
   ]
  },
  {
   "cell_type": "code",
   "execution_count": 48,
   "metadata": {},
   "outputs": [
    {
     "name": "stdout",
     "output_type": "stream",
     "text": [
      "NAmes z score : 1.7239665910370232\n",
      "CollgCr z score : -0.03334366282705464\n",
      "OldTown z score : 1.7183080926865524\n",
      "Edwards z score : 1.4435761938489418\n",
      "Somerst z score : -0.5186390646965723\n"
     ]
    }
   ],
   "source": [
    "for i in neighbor:\n",
    "    df = houses[houses['Neighborhood'] == i]\n",
    "    saleprice_df = df['SalePrice']\n",
    "    z = z_score(200000,saleprice_df)\n",
    "    print(\"{} z score : {}\".format(i,z))"
   ]
  },
  {
   "cell_type": "markdown",
   "metadata": {},
   "source": [
    "\n",
    "best_investment = 'College Creek'"
   ]
  },
  {
   "cell_type": "markdown",
   "metadata": {},
   "source": [
    "Z-scores are often used to transform entire distributions by converting all the values to z-scores.\n",
    "```\n",
    "mean = houses['SalePrice'].mean()\n",
    "st_dev = houses['SalePrice'].std(ddof = 0)\n",
    "\n",
    "houses['z_prices'] = houses['SalePrice'].apply(\n",
    "    lambda x: ((x - mean) / st_dev)\n",
    "    )\n",
    "\n",
    "plt.figure(figsize = (11,3.5))\n",
    "plt.subplot(1,2,1)\n",
    "houses['z_prices'].plot.kde(xlim = (houses['z_prices'].min(),\n",
    "                                houses['z_prices'].max()\n",
    "                                )\n",
    "                        )\n",
    "plt.subplot(1,2,2)\n",
    "houses['SalePrice'].plot.kde(xlim = (houses['SalePrice'].min(),\n",
    "                                    houses['SalePrice'].max()\n",
    "                                     )\n",
    "                            )\n",
    "plt.tight_layout()\n",
    "```"
   ]
  },
  {
   "cell_type": "code",
   "execution_count": 49,
   "metadata": {},
   "outputs": [],
   "source": [
    "mean = houses['SalePrice'].mean()\n",
    "st_dev = houses['SalePrice'].std(ddof = 0)\n",
    "houses['z_prices'] = houses['SalePrice'].apply(\n",
    "    lambda x: ((x - mean) / st_dev)\n",
    "    )"
   ]
  },
  {
   "cell_type": "code",
   "execution_count": 52,
   "metadata": {},
   "outputs": [],
   "source": [
    "z_mean_price = houses['z_prices'].mean()"
   ]
  },
  {
   "cell_type": "code",
   "execution_count": 54,
   "metadata": {},
   "outputs": [],
   "source": [
    "z_stdev_price = houses['z_prices'].std(ddof=0)"
   ]
  },
  {
   "cell_type": "code",
   "execution_count": 63,
   "metadata": {},
   "outputs": [],
   "source": [
    "houses['z_lotarea'] = houses['Lot Area'].apply(lambda x: (x - houses['Lot Area'].mean())/houses['Lot Area'].std(ddof=0))"
   ]
  },
  {
   "cell_type": "code",
   "execution_count": 64,
   "metadata": {},
   "outputs": [],
   "source": [
    "z_mean_area = houses['z_lotarea'].mean()"
   ]
  },
  {
   "cell_type": "code",
   "execution_count": 65,
   "metadata": {},
   "outputs": [],
   "source": [
    "z_stdev_area = houses['z_lotarea'].std(ddof=0)"
   ]
  },
  {
   "cell_type": "code",
   "execution_count": 66,
   "metadata": {},
   "outputs": [
    {
     "name": "stdout",
     "output_type": "stream",
     "text": [
      "Price:-1.0185254232738638e-16\n",
      "Area:-1.94004842528355e-17\n"
     ]
    }
   ],
   "source": [
    "print(\"Price:{}\\nArea:{}\".format(z_mean_price,z_mean_area))"
   ]
  },
  {
   "cell_type": "code",
   "execution_count": 67,
   "metadata": {},
   "outputs": [
    {
     "name": "stdout",
     "output_type": "stream",
     "text": [
      "Price:1.0\n",
      "Area:1.0\n"
     ]
    }
   ],
   "source": [
    "print(\"Price:{}\\nArea:{}\".format(z_stdev_price,z_stdev_area))"
   ]
  },
  {
   "cell_type": "markdown",
   "metadata": {},
   "source": [
    "for every distribution of z-scores, the mean is always 0 and the standard deviation is always 1.\n",
    "\n",
    "for example :\n",
    "\n",
    "Consider the transformation of a normally-distributed population of sale prices with mean = 180,000  and standard deviation 10000\n",
    "\n",
    "<img src=\"img/s2m5_relabeling.svg\">"
   ]
  },
  {
   "cell_type": "markdown",
   "metadata": {},
   "source": [
    "when we transform to z-scores, the initial values are practically relabeled and the relative location of each value in the distribution is perfectly preserved. This explains why the shape of the original distribution is preserved, and it also means that the location of the mean and the standard deviation is preserved as well.\n",
    "\n",
    "difference between the value that is one standard deviation above the mean 190000 and the mean 180000: 190000-180000=100000 . After converting 190000 and 180000 to z-scores, the difference becomes 1-0=1, so the standard deviation of the z-score distribution is 1."
   ]
  },
  {
   "cell_type": "markdown",
   "metadata": {},
   "source": [
    "* the mean of a distribution of z-score , $\\mu_z$\n",
    "* the standard deviation of a distribution of z-score. $\\sigma_z$\n",
    "\n",
    "<center>$\\large \\mu_z = \\large \\frac{\\mu - \\mu}{\\sigma} = 0$</center>\n",
    "\n",
    "<br>\n",
    "\n",
    "<center>$\\large \\sigma_z = \\large \\frac{(\\mu + \\sigma)-\\mu}{\\sigma}=1$</center>"
   ]
  },
  {
   "cell_type": "markdown",
   "metadata": {},
   "source": [
    "A distribution of z-scores is often called a standard distribution (remember that z-scores are also called standard scores). When we convert a distribution to z-scores, we'd say in statistical jargon that we standardized the distribution."
   ]
  },
  {
   "cell_type": "code",
   "execution_count": 69,
   "metadata": {},
   "outputs": [],
   "source": [
    "from numpy import std, mean\n",
    "population = [0,8,0,8]"
   ]
  },
  {
   "cell_type": "code",
   "execution_count": 73,
   "metadata": {},
   "outputs": [
    {
     "data": {
      "text/plain": [
       "[-1.0, 1.0, -1.0, 1.0]"
      ]
     },
     "execution_count": 73,
     "metadata": {},
     "output_type": "execute_result"
    }
   ],
   "source": [
    "z_population = [(i - mean(population)) / std(population) for i in population]\n",
    "z_population"
   ]
  },
  {
   "cell_type": "code",
   "execution_count": 71,
   "metadata": {},
   "outputs": [
    {
     "data": {
      "text/plain": [
       "0.0"
      ]
     },
     "execution_count": 71,
     "metadata": {},
     "output_type": "execute_result"
    }
   ],
   "source": [
    "mean_z = mean(z_population)\n",
    "mean_z"
   ]
  },
  {
   "cell_type": "code",
   "execution_count": 72,
   "metadata": {},
   "outputs": [
    {
     "data": {
      "text/plain": [
       "1.0"
      ]
     },
     "execution_count": 72,
     "metadata": {},
     "output_type": "execute_result"
    }
   ],
   "source": [
    "stdev_z = std(z_population)\n",
    "stdev_z"
   ]
  },
  {
   "cell_type": "code",
   "execution_count": 74,
   "metadata": {},
   "outputs": [],
   "source": [
    "from numpy import std, mean\n",
    "sample = [0,8,0,8]\n",
    "\n",
    "x_bar = mean(sample)\n",
    "s = std(sample, ddof = 1)\n",
    "\n",
    "standardized_sample = []\n",
    "for value in sample:\n",
    "    z = (value - x_bar) / s\n",
    "    standardized_sample.append(z)"
   ]
  },
  {
   "cell_type": "code",
   "execution_count": 76,
   "metadata": {},
   "outputs": [
    {
     "data": {
      "text/plain": [
       "1.0"
      ]
     },
     "execution_count": 76,
     "metadata": {},
     "output_type": "execute_result"
    }
   ],
   "source": [
    "std(standardized_sample,ddof=1)"
   ]
  },
  {
   "cell_type": "markdown",
   "metadata": {},
   "source": [
    "We want to begin with comparing index scores, but the first house has an index of -0.41111, the second's index is 38.05000, and the two indices come from different measurement systems, which makes them impossible to compare.\n",
    "\n",
    "One thing the two systems have in common is that the index is directly proportional with the house quality — a lower index means lower quality, and a higher index means higher quality. To compare these indices coming from different measurement systems, we can:\n",
    "\n",
    "Standardize each distribution of index values (transform each index to a z-score).\n",
    "Then compare the z-scores."
   ]
  },
  {
   "cell_type": "code",
   "execution_count": 78,
   "metadata": {},
   "outputs": [
    {
     "data": {
      "text/plain": [
       "Index(['Order', 'PID', 'MS SubClass', 'MS Zoning', 'Lot Frontage', 'Lot Area',\n",
       "       'Street', 'Alley', 'Lot Shape', 'Land Contour', 'Utilities',\n",
       "       'Lot Config', 'Land Slope', 'Neighborhood', 'Condition 1',\n",
       "       'Condition 2', 'Bldg Type', 'House Style', 'Overall Qual',\n",
       "       'Overall Cond', 'Year Built', 'Year Remod/Add', 'Roof Style',\n",
       "       'Roof Matl', 'Exterior 1st', 'Exterior 2nd', 'Mas Vnr Type',\n",
       "       'Mas Vnr Area', 'Exter Qual', 'Exter Cond', 'Foundation', 'Bsmt Qual',\n",
       "       'Bsmt Cond', 'Bsmt Exposure', 'BsmtFin Type 1', 'BsmtFin SF 1',\n",
       "       'BsmtFin Type 2', 'BsmtFin SF 2', 'Bsmt Unf SF', 'Total Bsmt SF',\n",
       "       'Heating', 'Heating QC', 'Central Air', 'Electrical', '1st Flr SF',\n",
       "       '2nd Flr SF', 'Low Qual Fin SF', 'Gr Liv Area', 'Bsmt Full Bath',\n",
       "       'Bsmt Half Bath', 'Full Bath', 'Half Bath', 'Bedroom AbvGr',\n",
       "       'Kitchen AbvGr', 'Kitchen Qual', 'TotRms AbvGrd', 'Functional',\n",
       "       'Fireplaces', 'Fireplace Qu', 'Garage Type', 'Garage Yr Blt',\n",
       "       'Garage Finish', 'Garage Cars', 'Garage Area', 'Garage Qual',\n",
       "       'Garage Cond', 'Paved Drive', 'Wood Deck SF', 'Open Porch SF',\n",
       "       'Enclosed Porch', '3Ssn Porch', 'Screen Porch', 'Pool Area', 'Pool QC',\n",
       "       'Fence', 'Misc Feature', 'Misc Val', 'Mo Sold', 'Yr Sold', 'Sale Type',\n",
       "       'Sale Condition', 'SalePrice', 'z_prices', 'z_lotarea'],\n",
       "      dtype='object')"
      ]
     },
     "execution_count": 78,
     "metadata": {},
     "output_type": "execute_result"
    }
   ],
   "source": [
    "houses.columns"
   ]
  },
  {
   "cell_type": "markdown",
   "metadata": {},
   "source": [
    " convert z-scores to more intuitive values\n",
    " \n",
    " $\\large z\\sigma + \\mu = x$\n",
    " \n",
    "* We standardized an initial distribution with a given  and  (we performed this step in the previous exercise when we standardized the distribution of index_1 and index_2).\n",
    "* We converted the standardized distribution to values that together have a different mean  and standard deviation  than they did initially."
   ]
  },
  {
   "cell_type": "markdown",
   "metadata": {},
   "source": [
    "```\n",
    "distribution = houses['z_merged'].apply(lambda x: x*10 + 50)\n",
    "\n",
    "mean_transformed = distribution.mean()\n",
    "\n",
    "stdev_transformed = distribution.std(ddof=0)\n",
    "```"
   ]
  },
  {
   "cell_type": "code",
   "execution_count": null,
   "metadata": {},
   "outputs": [],
   "source": []
  }
 ],
 "metadata": {
  "kernelspec": {
   "display_name": "'Python Interactive'",
   "language": "python",
   "name": "1d4e2c9e-28ad-43eb-ad59-0dfcefc68a99"
  },
  "language_info": {
   "codemirror_mode": {
    "name": "ipython",
    "version": 3
   },
   "file_extension": ".py",
   "mimetype": "text/x-python",
   "name": "python",
   "nbconvert_exporter": "python",
   "pygments_lexer": "ipython3",
   "version": "3.6.4"
  },
  "latex_envs": {
   "LaTeX_envs_menu_present": true,
   "autoclose": false,
   "autocomplete": true,
   "bibliofile": "biblio.bib",
   "cite_by": "apalike",
   "current_citInitial": 1,
   "eqLabelWithNumbers": true,
   "eqNumInitial": 1,
   "hotkeys": {
    "equation": "Ctrl-E",
    "itemize": "Ctrl-I"
   },
   "labels_anchors": false,
   "latex_user_defs": false,
   "report_style_numbering": false,
   "user_envs_cfg": false
  }
 },
 "nbformat": 4,
 "nbformat_minor": 2
}
