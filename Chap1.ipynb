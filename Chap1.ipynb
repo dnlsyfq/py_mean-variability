{
 "cells": [
  {
   "cell_type": "code",
   "execution_count": 26,
   "metadata": {},
   "outputs": [],
   "source": [
    "import numpy as np\n",
    "import pandas as pd\n",
    "import matplotlib.pyplot as plt\n",
    "distribution = np.array([0,2,3,3,3,4,13])"
   ]
  },
  {
   "cell_type": "code",
   "execution_count": 2,
   "metadata": {},
   "outputs": [
    {
     "data": {
      "text/plain": [
       "4.0"
      ]
     },
     "execution_count": 2,
     "metadata": {},
     "output_type": "execute_result"
    }
   ],
   "source": [
    "mean = np.mean(distribution) # arithmetic mean\n",
    "mean"
   ]
  },
  {
   "cell_type": "code",
   "execution_count": 3,
   "metadata": {},
   "outputs": [],
   "source": [
    "low_than_mean = [mean -i for i in distribution if i < mean]\n",
    "high_than_mean = [i - mean for i in distribution if i > mean]"
   ]
  },
  {
   "cell_type": "code",
   "execution_count": 4,
   "metadata": {},
   "outputs": [
    {
     "data": {
      "text/plain": [
       "'Low:9.0, High:9.0'"
      ]
     },
     "execution_count": 4,
     "metadata": {},
     "output_type": "execute_result"
    }
   ],
   "source": [
    "\"Low:{}, High:{}\".format(np.sum(low_than_mean),np.sum(high_than_mean))\n"
   ]
  },
  {
   "cell_type": "code",
   "execution_count": 5,
   "metadata": {},
   "outputs": [
    {
     "data": {
      "image/png": "[encoded data removed]",
      "text/plain": [
       "<Figure size 576x432 with 1 Axes>"
      ]
     },
     "metadata": {
      "needs_background": "light"
     },
     "output_type": "display_data"
    }
   ],
   "source": [
    "plt.figure(figsize=(8,6))\n",
    "plt.scatter(distribution,np.zeros(len(distribution)))\n",
    "ax = plt.gca()\n",
    "ax.axes.yaxis.set_visible(False)"
   ]
  },
  {
   "cell_type": "code",
   "execution_count": 6,
   "metadata": {},
   "outputs": [],
   "source": [
    "from numpy.random import randint,seed"
   ]
  },
  {
   "cell_type": "code",
   "execution_count": 14,
   "metadata": {},
   "outputs": [
    {
     "name": "stdout",
     "output_type": "stream",
     "text": [
      "5000\n"
     ]
    }
   ],
   "source": [
    "equal_distances = 0\n",
    "for i in range(5000):\n",
    "    seed(i)\n",
    "    data = randint(0,1001,10)\n",
    "    mean = np.mean(data)\n",
    "    above_mean = round(np.sum([a - mean for a in data if a > mean]),1)\n",
    "    below_mean = round(np.sum([mean - b for b in data if b < mean]),1)\n",
    "    if above_mean == below_mean:\n",
    "        equal_distances += 1\n",
    "print(equal_distances)\n",
    "    "
   ]
  },
  {
   "cell_type": "markdown",
   "metadata": {},
   "source": [
    "---\n",
    "Population Mean ,$\\large \\mu $ :\n",
    "<br>\n",
    "\n",
    "$$\\large \\frac{\\sum_{i=1}^N x_i}{N} =  \\frac{X_1+X_2+...+ X_N}{N}$$\n",
    "\n",
    "<br>\n",
    "\n",
    "Sample Mean ,$\\large \\bar{x} $:\n",
    "\n",
    "\n",
    "$$\\large \\frac{\\sum_{i=1}^n x_i}{n} = \\frac{x_1 + x_2 + ... + x_n}{n}$$"
   ]
  },
  {
   "cell_type": "code",
   "execution_count": 17,
   "metadata": {},
   "outputs": [],
   "source": [
    "distribution_1 = [42, 24, 32, 11]\n",
    "distribution_2 = [102, 32, 74, 15, 38, 45, 22]\n",
    "distribution_3 = [3, 12, 7, 2, 15, 1, 21]"
   ]
  },
  {
   "cell_type": "code",
   "execution_count": 18,
   "metadata": {},
   "outputs": [],
   "source": [
    "def pop_mean(lst):\n",
    "    total = sum(lst)\n",
    "    return total/len(lst)"
   ]
  },
  {
   "cell_type": "code",
   "execution_count": 19,
   "metadata": {},
   "outputs": [
    {
     "data": {
      "text/plain": [
       "27.25"
      ]
     },
     "execution_count": 19,
     "metadata": {},
     "output_type": "execute_result"
    }
   ],
   "source": [
    "pop_mean(distribution_1)"
   ]
  },
  {
   "cell_type": "code",
   "execution_count": 20,
   "metadata": {},
   "outputs": [
    {
     "data": {
      "text/plain": [
       "46.857142857142854"
      ]
     },
     "execution_count": 20,
     "metadata": {},
     "output_type": "execute_result"
    }
   ],
   "source": [
    "pop_mean(distribution_2)"
   ]
  },
  {
   "cell_type": "code",
   "execution_count": 21,
   "metadata": {},
   "outputs": [
    {
     "data": {
      "text/plain": [
       "8.714285714285714"
      ]
     },
     "execution_count": 21,
     "metadata": {},
     "output_type": "execute_result"
    }
   ],
   "source": [
    "pop_mean(distribution_3)"
   ]
  },
  {
   "cell_type": "code",
   "execution_count": 22,
   "metadata": {},
   "outputs": [],
   "source": [
    "def pop_mean(arr):\n",
    "    total = 0\n",
    "    for i in arr:\n",
    "        total += i\n",
    "    return total/len(arr)"
   ]
  },
  {
   "cell_type": "code",
   "execution_count": 31,
   "metadata": {},
   "outputs": [],
   "source": [
    "df = pd.read_table('AmesHousing_1.txt',sep='\\t')"
   ]
  },
  {
   "cell_type": "code",
   "execution_count": 32,
   "metadata": {},
   "outputs": [
    {
     "data": {
      "text/plain": [
       "135000    34\n",
       "140000    33\n",
       "130000    29\n",
       "155000    28\n",
       "145000    26\n",
       "          ..\n",
       "256300     1\n",
       "274725     1\n",
       "332200     1\n",
       "57625      1\n",
       "169985     1\n",
       "Name: SalePrice, Length: 1032, dtype: int64"
      ]
     },
     "execution_count": 32,
     "metadata": {},
     "output_type": "execute_result"
    }
   ],
   "source": [
    "df['SalePrice'].value_counts()"
   ]
  },
  {
   "cell_type": "code",
   "execution_count": 34,
   "metadata": {},
   "outputs": [
    {
     "data": {
      "text/plain": [
       "180796.0600682594"
      ]
     },
     "execution_count": 34,
     "metadata": {},
     "output_type": "execute_result"
    }
   ],
   "source": [
    "df['SalePrice'].mean()"
   ]
  },
  {
   "cell_type": "code",
   "execution_count": 37,
   "metadata": {},
   "outputs": [
    {
     "data": {
      "text/plain": [
       "180796.0600682594"
      ]
     },
     "execution_count": 37,
     "metadata": {},
     "output_type": "execute_result"
    }
   ],
   "source": [
    "pop_mean(df['SalePrice'].tolist())"
   ]
  },
  {
   "cell_type": "markdown",
   "metadata": {},
   "source": [
    "---\n",
    "# Population Mean , Sample Mean \n",
    "\n",
    "\n",
    "* **Sampling Error** = **Parameter** - **Statistics**\n",
    "* **Parameter** = **Population Mean** = $\\mu$\n",
    "* **Statistics** = **Sample Mean** = $\\bar{x}$\n",
    "\n",
    "<center>\n",
    "$\\large Sampling Error$ = $\\large \\mu$ - $\\large \\bar{x}$\n",
    "</center>\n",
    "    \n",
    "* Sample Mean > Population Mean , Overestimates , Sampling Error occurs\n",
    "* Sample Mean < Population Mean , Underestimates , Sampling Error occurs\n",
    "* Sample Mean == Population Mean \n",
    "\n",
    "\n",
    "\n",
    "* to reduce the sampling error:\n",
    "    > Sample representativity — the more representative a sample is $\\bar{x}$, the closer  will be to $\\mu$ .\n",
    "    \n",
    "    > Sample size — the larger the sample, the more chances we have to get a representative sample. By consequence, this means less sampling error"
   ]
  },
  {
   "cell_type": "code",
   "execution_count": 43,
   "metadata": {},
   "outputs": [],
   "source": [
    "sample_size = 5\n",
    "sampling_error = []\n",
    "sampling_inc = []\n",
    "for i in range(0,101):\n",
    "    sample = df['SalePrice'].sample(sample_size,random_state=0)\n",
    "    sample_mean = sample.mean()\n",
    "    sampling_inc.append(sample_size)\n",
    "    sampling_error.append(df['SalePrice'].mean() - sample_mean)\n",
    "    sample_size += 29\n",
    "    "
   ]
  },
  {
   "cell_type": "code",
   "execution_count": 49,
   "metadata": {},
   "outputs": [
    {
     "data": {
      "text/plain": [
       "Text(0, 0.5, 'Sampling error')"
      ]
     },
     "execution_count": 49,
     "metadata": {},
     "output_type": "execute_result"
    },
    {
     "data": {
      "image/png": "[encoded data removed]",
      "text/plain": [
       "<Figure size 432x288 with 1 Axes>"
      ]
     },
     "metadata": {
      "needs_background": "light"
     },
     "output_type": "display_data"
    }
   ],
   "source": [
    "plt.scatter(sampling_inc,sampling_error)\n",
    "plt.axhline(0,c='red')\n",
    "plt.axvline(2930,c='red')\n",
    "plt.xlabel('Sample size')\n",
    "plt.ylabel('Sampling error')"
   ]
  },
  {
   "cell_type": "code",
   "execution_count": null,
   "metadata": {},
   "outputs": [],
   "source": []
  }
 ],
 "metadata": {
  "kernelspec": {
   "display_name": "Python 3",
   "language": "python",
   "name": "python3"
  },
  "language_info": {
   "codemirror_mode": {
    "name": "ipython",
    "version": 3
   },
   "file_extension": ".py",
   "mimetype": "text/x-python",
   "name": "python",
   "nbconvert_exporter": "python",
   "pygments_lexer": "ipython3",
   "version": "3.7.4"
  }
 },
 "nbformat": 4,
 "nbformat_minor": 4
}
