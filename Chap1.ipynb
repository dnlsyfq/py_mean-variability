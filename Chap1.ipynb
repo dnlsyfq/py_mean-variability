{
 "cells": [
  {
   "cell_type": "code",
   "execution_count": 1,
   "metadata": {},
   "outputs": [],
   "source": [
    "import numpy as np\n",
    "import matplotlib.pyplot as plt\n",
    "distribution = np.array([0,2,3,3,3,4,13])"
   ]
  },
  {
   "cell_type": "code",
   "execution_count": 2,
   "metadata": {},
   "outputs": [
    {
     "data": {
      "text/plain": [
       "4.0"
      ]
     },
     "execution_count": 2,
     "metadata": {},
     "output_type": "execute_result"
    }
   ],
   "source": [
    "mean = np.mean(distribution) # arithmetic mean\n",
    "mean"
   ]
  },
  {
   "cell_type": "code",
   "execution_count": 3,
   "metadata": {},
   "outputs": [],
   "source": [
    "low_than_mean = [mean -i for i in distribution if i < mean]\n",
    "high_than_mean = [i - mean for i in distribution if i > mean]"
   ]
  },
  {
   "cell_type": "code",
   "execution_count": 4,
   "metadata": {},
   "outputs": [
    {
     "data": {
      "text/plain": [
       "'Low:9.0, High:9.0'"
      ]
     },
     "execution_count": 4,
     "metadata": {},
     "output_type": "execute_result"
    }
   ],
   "source": [
    "\"Low:{}, High:{}\".format(np.sum(low_than_mean),np.sum(high_than_mean))\n"
   ]
  },
  {
   "cell_type": "code",
   "execution_count": 5,
   "metadata": {},
   "outputs": [
    {
     "data": {
      "image/png": "[encoded data removed]",
      "text/plain": [
       "<Figure size 576x432 with 1 Axes>"
      ]
     },
     "metadata": {
      "needs_background": "light"
     },
     "output_type": "display_data"
    }
   ],
   "source": [
    "plt.figure(figsize=(8,6))\n",
    "plt.scatter(distribution,np.zeros(len(distribution)))\n",
    "ax = plt.gca()\n",
    "ax.axes.yaxis.set_visible(False)"
   ]
  },
  {
   "cell_type": "code",
   "execution_count": 6,
   "metadata": {},
   "outputs": [],
   "source": [
    "from numpy.random import randint,seed"
   ]
  },
  {
   "cell_type": "code",
   "execution_count": 14,
   "metadata": {},
   "outputs": [
    {
     "name": "stdout",
     "output_type": "stream",
     "text": [
      "5000\n"
     ]
    }
   ],
   "source": [
    "equal_distances = 0\n",
    "for i in range(5000):\n",
    "    seed(i)\n",
    "    data = randint(0,1001,10)\n",
    "    mean = np.mean(data)\n",
    "    above_mean = round(np.sum([a - mean for a in data if a > mean]),1)\n",
    "    below_mean = round(np.sum([mean - b for b in data if b < mean]),1)\n",
    "    if above_mean == below_mean:\n",
    "        equal_distances += 1\n",
    "print(equal_distances)\n",
    "    "
   ]
  },
  {
   "cell_type": "markdown",
   "metadata": {},
   "source": [
    "---\n",
    "Population Mean ,$\\large \\mu $ :\n",
    "<br>\n",
    "\n",
    "$$\\large \\frac{\\sum_{i=1}^N x_i}{N} =  \\frac{X_1+X_2+...+ X_N}{N}$$\n",
    "\n",
    "<br>\n",
    "\n",
    "Sample Mean ,$\\large \\bar{x} $:\n",
    "\n",
    "\n",
    "$$\\large \\frac{\\sum_{i=1}^n x_i}{n} = \\frac{x_1 + x_2 + ... + x_n}{n}$$"
   ]
  },
  {
   "cell_type": "code",
   "execution_count": null,
   "metadata": {},
   "outputs": [],
   "source": []
  }
 ],
 "metadata": {
  "kernelspec": {
   "display_name": "Python 3",
   "language": "python",
   "name": "python3"
  },
  "language_info": {
   "codemirror_mode": {
    "name": "ipython",
    "version": 3
   },
   "file_extension": ".py",
   "mimetype": "text/x-python",
   "name": "python",
   "nbconvert_exporter": "python",
   "pygments_lexer": "ipython3",
   "version": "3.7.4"
  }
 },
 "nbformat": 4,
 "nbformat_minor": 4
}
