{
 "cells": [
  {
   "cell_type": "code",
   "execution_count": 4,
   "metadata": {},
   "outputs": [],
   "source": [
    "import numpy as np\n",
    "import pandas as pd\n",
    "houses = pd.read_table('AmesHousing_1.txt',sep='\\t')"
   ]
  },
  {
   "cell_type": "code",
   "execution_count": 2,
   "metadata": {},
   "outputs": [],
   "source": [
    "A = np.array([4,4,4,4])\n",
    "B = np.array([0,8,0,8])"
   ]
  },
  {
   "cell_type": "code",
   "execution_count": 3,
   "metadata": {},
   "outputs": [
    {
     "name": "stdout",
     "output_type": "stream",
     "text": [
      "4.0\n",
      "4.0\n"
     ]
    }
   ],
   "source": [
    "print(A.mean())\n",
    "print(B.mean())"
   ]
  },
  {
   "cell_type": "markdown",
   "metadata": {},
   "source": [
    "### Measure of Variability (Range)\n",
    "\n",
    "To **measure the variability**/**range** of a distribution :\n",
    "\n",
    "* to find the difference between the maximum and the minimum value.\n",
    "\n",
    "<center>\n",
    "$max(A) - min(A)$\n",
    "\n",
    "$max(B) - max(B)$\n",
    "\n",
    "$range(X) = max(X) - min(X)$\n",
    "</center>"
   ]
  },
  {
   "cell_type": "code",
   "execution_count": 31,
   "metadata": {},
   "outputs": [],
   "source": [
    "def todict(row):\n",
    "    range_dict = {}\n",
    "    range_dict[row['Yr Sold']] = row['SalePrice']\n",
    "    return range_dict"
   ]
  },
  {
   "cell_type": "code",
   "execution_count": 32,
   "metadata": {},
   "outputs": [],
   "source": [
    "range_by_year = houses.groupby('Yr Sold')['SalePrice'].\\\n",
    "apply(lambda x: x.max() - x.min()).reset_index().\\\n",
    "apply(todict,axis=1)\n",
    "        "
   ]
  },
  {
   "cell_type": "code",
   "execution_count": 33,
   "metadata": {},
   "outputs": [
    {
     "data": {
      "text/plain": [
       "[{2006: 590000},\n",
       " {2007: 715700},\n",
       " {2008: 601900},\n",
       " {2009: 575100},\n",
       " {2010: 598868}]"
      ]
     },
     "execution_count": 33,
     "metadata": {},
     "output_type": "execute_result"
    }
   ],
   "source": [
    "range_by_year.tolist()"
   ]
  },
  {
   "cell_type": "code",
   "execution_count": 30,
   "metadata": {},
   "outputs": [],
   "source": [
    "def find_range(arr):\n",
    "    return arr.max() - arr.min()"
   ]
  },
  {
   "cell_type": "code",
   "execution_count": 35,
   "metadata": {},
   "outputs": [],
   "source": [
    "range_by_year = {}\n",
    "for i in houses['Yr Sold'].unique():\n",
    "    filter_df = houses[houses['Yr Sold']==i]\n",
    "    range_by_year[i]=find_range(filter_df['SalePrice'])\n",
    "    "
   ]
  },
  {
   "cell_type": "code",
   "execution_count": 36,
   "metadata": {},
   "outputs": [
    {
     "data": {
      "text/plain": [
       "{2010: 598868, 2009: 575100, 2008: 601900, 2007: 715700, 2006: 590000}"
      ]
     },
     "execution_count": 36,
     "metadata": {},
     "output_type": "execute_result"
    }
   ],
   "source": [
    "range_by_year"
   ]
  },
  {
   "cell_type": "code",
   "execution_count": 38,
   "metadata": {},
   "outputs": [
    {
     "name": "stdout",
     "output_type": "stream",
     "text": [
      "2010 598868\n",
      "2009 575100\n",
      "2008 601900\n",
      "2007 715700\n",
      "2006 590000\n"
     ]
    }
   ],
   "source": [
    "for k,v in range_by_year.items():\n",
    "    print(k,v)"
   ]
  },
  {
   "cell_type": "code",
   "execution_count": null,
   "metadata": {},
   "outputs": [],
   "source": []
  }
 ],
 "metadata": {
  "kernelspec": {
   "display_name": "Python 3",
   "language": "python",
   "name": "python3"
  },
  "language_info": {
   "codemirror_mode": {
    "name": "ipython",
    "version": 3
   },
   "file_extension": ".py",
   "mimetype": "text/x-python",
   "name": "python",
   "nbconvert_exporter": "python",
   "pygments_lexer": "ipython3",
   "version": "3.7.4"
  }
 },
 "nbformat": 4,
 "nbformat_minor": 2
}
