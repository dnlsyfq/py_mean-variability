{
 "cells": [
  {
   "cell_type": "code",
   "execution_count": 32,
   "metadata": {},
   "outputs": [],
   "source": [
    "import numpy as np\n",
    "import pandas as pd\n",
    "import matplotlib.pyplot as plt\n",
    "houses = pd.read_table('AmesHousing_1.txt',sep='\\t')"
   ]
  },
  {
   "cell_type": "code",
   "execution_count": 2,
   "metadata": {},
   "outputs": [],
   "source": [
    "A = np.array([4,4,4,4])\n",
    "B = np.array([0,8,0,8])"
   ]
  },
  {
   "cell_type": "code",
   "execution_count": 3,
   "metadata": {},
   "outputs": [
    {
     "name": "stdout",
     "output_type": "stream",
     "text": [
      "4.0\n",
      "4.0\n"
     ]
    }
   ],
   "source": [
    "print(A.mean())\n",
    "print(B.mean())"
   ]
  },
  {
   "cell_type": "markdown",
   "metadata": {},
   "source": [
    "### Measure of Variability (Range)\n",
    "\n",
    "To **measure the variability**/**range** of a distribution :\n",
    "\n",
    "* to find the difference between the maximum and the minimum value.\n",
    "\n",
    "<center>\n",
    "$max(A) - min(A)$\n",
    "\n",
    "$max(B) - max(B)$\n",
    "\n",
    "$range(X) = max(X) - min(X)$\n",
    "</center>"
   ]
  },
  {
   "cell_type": "code",
   "execution_count": 4,
   "metadata": {},
   "outputs": [],
   "source": [
    "def todict(row):\n",
    "    range_dict = {}\n",
    "    range_dict[row['Yr Sold']] = row['SalePrice']\n",
    "    return range_dict"
   ]
  },
  {
   "cell_type": "code",
   "execution_count": 5,
   "metadata": {},
   "outputs": [],
   "source": [
    "range_by_year = houses.groupby('Yr Sold')['SalePrice'].\\\n",
    "apply(lambda x: x.max() - x.min()).reset_index().\\\n",
    "apply(todict,axis=1)\n",
    "        "
   ]
  },
  {
   "cell_type": "code",
   "execution_count": 6,
   "metadata": {},
   "outputs": [
    {
     "data": {
      "text/plain": [
       "[{2006: 590000},\n",
       " {2007: 715700},\n",
       " {2008: 601900},\n",
       " {2009: 575100},\n",
       " {2010: 598868}]"
      ]
     },
     "execution_count": 6,
     "metadata": {},
     "output_type": "execute_result"
    }
   ],
   "source": [
    "range_by_year.tolist()"
   ]
  },
  {
   "cell_type": "code",
   "execution_count": 7,
   "metadata": {},
   "outputs": [],
   "source": [
    "def find_range(arr):\n",
    "    return arr.max() - arr.min()"
   ]
  },
  {
   "cell_type": "code",
   "execution_count": 8,
   "metadata": {},
   "outputs": [],
   "source": [
    "range_by_year = {}\n",
    "for i in houses['Yr Sold'].unique():\n",
    "    filter_df = houses[houses['Yr Sold']==i]\n",
    "    range_by_year[i]=find_range(filter_df['SalePrice'])\n",
    "    "
   ]
  },
  {
   "cell_type": "code",
   "execution_count": 9,
   "metadata": {},
   "outputs": [
    {
     "data": {
      "text/plain": [
       "{2010: 598868, 2009: 575100, 2008: 601900, 2007: 715700, 2006: 590000}"
      ]
     },
     "execution_count": 9,
     "metadata": {},
     "output_type": "execute_result"
    }
   ],
   "source": [
    "range_by_year"
   ]
  },
  {
   "cell_type": "code",
   "execution_count": 10,
   "metadata": {},
   "outputs": [
    {
     "name": "stdout",
     "output_type": "stream",
     "text": [
      "2010 598868\n",
      "2009 575100\n",
      "2008 601900\n",
      "2007 715700\n",
      "2006 590000\n"
     ]
    }
   ],
   "source": [
    "for k,v in range_by_year.items():\n",
    "    print(k,v)"
   ]
  },
  {
   "cell_type": "markdown",
   "metadata": {},
   "source": [
    "### Average Distance\n"
   ]
  },
  {
   "cell_type": "markdown",
   "metadata": {},
   "source": [
    "<center>\n",
    "average distance = $\\large \\frac{(x_1-\\mu)+(x_2-\\mu)+...+(x_n-\\mu)}{N}$\n",
    "</center>\n",
    "<br>\n",
    "<center>\n",
    "= $\\large \\frac{\\sum_{i=1}^n(x_i - \\mu)}{N}$\n",
    "</center>"
   ]
  },
  {
   "cell_type": "code",
   "execution_count": 11,
   "metadata": {},
   "outputs": [],
   "source": [
    "def average_distance(arr):\n",
    "    mean = np.mean(arr)\n",
    "    lst = []\n",
    "    for value in arr:\n",
    "        lst.append(value-mean)\n",
    "    return np.mean(lst)"
   ]
  },
  {
   "cell_type": "code",
   "execution_count": 12,
   "metadata": {},
   "outputs": [],
   "source": [
    "C = [1,1,1,1,1,1,1,1,1,21]"
   ]
  },
  {
   "cell_type": "code",
   "execution_count": 13,
   "metadata": {},
   "outputs": [
    {
     "data": {
      "text/plain": [
       "0.0"
      ]
     },
     "execution_count": 13,
     "metadata": {},
     "output_type": "execute_result"
    }
   ],
   "source": [
    "avg_distance = average_distance(C)\n",
    "avg_distance"
   ]
  },
  {
   "cell_type": "markdown",
   "metadata": {},
   "source": [
    "### Mean Absolute Deviation @ Average Absolute Deviation"
   ]
  },
  {
   "cell_type": "markdown",
   "metadata": {},
   "source": [
    "<center>\n",
    "mean absolute distance = $\\large \\frac{|x_1-\\mu|+|x_2-\\mu|+...+|x_n-\\mu|}{N}$\n",
    "</center>\n",
    "<br>\n",
    "<center>\n",
    "= $\\large \\frac{\\sum_{i=1}^n|x_i - \\mu|}{N}$\n",
    "</center>"
   ]
  },
  {
   "cell_type": "code",
   "execution_count": 14,
   "metadata": {},
   "outputs": [],
   "source": [
    "def mean_distance(arr):\n",
    "    mean = np.mean(arr)\n",
    "    lst = []\n",
    "    for i in arr:\n",
    "        lst.append(abs(i-mean))\n",
    "    return np.mean(lst)"
   ]
  },
  {
   "cell_type": "code",
   "execution_count": 15,
   "metadata": {},
   "outputs": [
    {
     "data": {
      "text/plain": [
       "3.6"
      ]
     },
     "execution_count": 15,
     "metadata": {},
     "output_type": "execute_result"
    }
   ],
   "source": [
    "mad = mean_distance(C)\n",
    "mad"
   ]
  },
  {
   "cell_type": "markdown",
   "metadata": {},
   "source": [
    "### Variance"
   ]
  },
  {
   "cell_type": "markdown",
   "metadata": {},
   "source": [
    "measure of variability is sometimes called mean squared distance or mean squared deviation (remember that \"distance\" and \"deviation\" are synonymous in this context). However, it's more commonly known as variance."
   ]
  },
  {
   "cell_type": "markdown",
   "metadata": {},
   "source": [
    "<center>\n",
    "variance = mean squared distance = $\\large \\frac{(x_1-\\mu)^2+(x_2-\\mu)^2+...+(x_n-\\mu)^2}{N}$\n",
    "</center>\n",
    "<br>\n",
    "<center>\n",
    "= $\\large \\frac{\\sum_{i=1}^N(x_i - \\mu)^2}{N}$\n",
    "</center>"
   ]
  },
  {
   "cell_type": "markdown",
   "metadata": {},
   "source": [
    "**Squaring the distances** or **taking their absolute values** ensure that we get a **variability value that is greater than 0** for all distributions that show some variability. \n",
    "\n",
    "> Notice, however, that variance and mean absolute deviation will still be 0 for distributions that show no variability."
   ]
  },
  {
   "cell_type": "code",
   "execution_count": 16,
   "metadata": {},
   "outputs": [],
   "source": [
    "D = [2,2,2,2]"
   ]
  },
  {
   "cell_type": "code",
   "execution_count": 17,
   "metadata": {},
   "outputs": [
    {
     "data": {
      "text/plain": [
       "0.0"
      ]
     },
     "execution_count": 17,
     "metadata": {},
     "output_type": "execute_result"
    }
   ],
   "source": [
    "mean_distance(D)"
   ]
  },
  {
   "cell_type": "code",
   "execution_count": 18,
   "metadata": {},
   "outputs": [],
   "source": [
    "def variance_distance(arr):\n",
    "    mean = np.mean(arr)\n",
    "    lst = []\n",
    "    for i in arr:\n",
    "        mean_squared = (i-mean)**2\n",
    "        lst.append(mean_squared)\n",
    "    return np.mean(lst)"
   ]
  },
  {
   "cell_type": "code",
   "execution_count": 19,
   "metadata": {},
   "outputs": [
    {
     "data": {
      "text/plain": [
       "36.0"
      ]
     },
     "execution_count": 19,
     "metadata": {},
     "output_type": "execute_result"
    }
   ],
   "source": [
    "variance_distance(C)"
   ]
  },
  {
   "cell_type": "markdown",
   "metadata": {},
   "source": [
    "### Standard Deviation\n",
    "The standard deviation gives us a picture about this variability around the mean \n",
    "\n",
    "<br/>\n",
    "\n",
    "<center>\n",
    "standard deviation= $\\large \\sqrt\\frac{(x_1-\\mu)^2+(x_2-\\mu)^2+...+(x_n-\\mu)^2}{N}$\n",
    "</center>\n",
    "<br>\n",
    "<center>\n",
    "= $\\large \\sqrt \\frac{\\sum_{i=1}^N(x_i - \\mu)^2}{N}$\n",
    "</center>"
   ]
  },
  {
   "cell_type": "code",
   "execution_count": 22,
   "metadata": {},
   "outputs": [],
   "source": [
    "# from math import sqrt\n",
    "C = [1,1,1,1,1,1,1,1,1,21]"
   ]
  },
  {
   "cell_type": "code",
   "execution_count": 24,
   "metadata": {},
   "outputs": [],
   "source": [
    "def sd_distance(arr):\n",
    "    variance_list = []\n",
    "    mean = np.mean(arr)\n",
    "    for i in arr:\n",
    "        squared = (i - mean)**2\n",
    "        variance_list.append(squared)\n",
    "    variance = np.mean(variance_list)\n",
    "    return np.sqrt(variance)\n",
    "        "
   ]
  },
  {
   "cell_type": "code",
   "execution_count": 25,
   "metadata": {},
   "outputs": [
    {
     "data": {
      "text/plain": [
       "6.0"
      ]
     },
     "execution_count": 25,
     "metadata": {},
     "output_type": "execute_result"
    }
   ],
   "source": [
    "sd_distance(C)"
   ]
  },
  {
   "cell_type": "code",
   "execution_count": 26,
   "metadata": {},
   "outputs": [
    {
     "data": {
      "text/plain": [
       "79873.05865192253"
      ]
     },
     "execution_count": 26,
     "metadata": {},
     "output_type": "execute_result"
    }
   ],
   "source": [
    "sd_distance(houses['SalePrice'])"
   ]
  },
  {
   "cell_type": "code",
   "execution_count": 27,
   "metadata": {},
   "outputs": [
    {
     "data": {
      "text/plain": [
       "180796.0600682594"
      ]
     },
     "execution_count": 27,
     "metadata": {},
     "output_type": "execute_result"
    }
   ],
   "source": [
    "np.mean(houses['SalePrice'])"
   ]
  },
  {
   "cell_type": "markdown",
   "metadata": {},
   "source": [
    "### Average Variability Around the Mean\n",
    "\n",
    "The standard deviation doesn't set boundaries for the values in a distribution\n"
   ]
  },
  {
   "cell_type": "code",
   "execution_count": 41,
   "metadata": {},
   "outputs": [
    {
     "data": {
      "image/png": "[encoded data removed]",
      "text/plain": [
       "<Figure size 432x288 with 1 Axes>"
      ]
     },
     "metadata": {
      "needs_background": "light"
     },
     "output_type": "display_data"
    }
   ],
   "source": [
    "houses['SalePrice'].plot.hist()\n",
    "below = np.mean(houses['SalePrice']) - np.std(houses['SalePrice'])\n",
    "above = np.mean(houses['SalePrice']) + np.std(houses['SalePrice'])\n",
    "plt.axvline(houses['SalePrice'].mean(),c='skyblue',lw=2)\n",
    "plt.axvline(below,c='darkblue',label='below')\n",
    "plt.axvline(above,c='fuchsia',label='above')\n",
    "plt.legend()\n",
    "plt.show()"
   ]
  },
  {
   "cell_type": "code",
   "execution_count": 48,
   "metadata": {},
   "outputs": [],
   "source": [
    "# Lowest Variability , Greatest Variability by year \n",
    "year_std = {}\n",
    "for year in houses['Yr Sold'].unique():\n",
    "    df = houses[houses['Yr Sold']==year]\n",
    "    year_std[year]=np.std(df['SalePrice'])\n"
   ]
  },
  {
   "cell_type": "code",
   "execution_count": 51,
   "metadata": {},
   "outputs": [
    {
     "data": {
      "text/plain": [
       "{2010: 74521.920711871,\n",
       " 2009: 80794.39070298368,\n",
       " 2008: 75531.94622558323,\n",
       " 2007: 82483.28433288912,\n",
       " 2006: 82553.57563561312}"
      ]
     },
     "execution_count": 51,
     "metadata": {},
     "output_type": "execute_result"
    }
   ],
   "source": [
    "year_std"
   ]
  },
  {
   "cell_type": "code",
   "execution_count": 50,
   "metadata": {},
   "outputs": [
    {
     "data": {
      "text/plain": [
       "2006"
      ]
     },
     "execution_count": 50,
     "metadata": {},
     "output_type": "execute_result"
    }
   ],
   "source": [
    "max(year_std,key=year_std.get)"
   ]
  },
  {
   "cell_type": "code",
   "execution_count": 52,
   "metadata": {},
   "outputs": [
    {
     "data": {
      "text/plain": [
       "2010"
      ]
     },
     "execution_count": 52,
     "metadata": {},
     "output_type": "execute_result"
    }
   ],
   "source": [
    "min(year_std,key=year_std.get)"
   ]
  },
  {
   "cell_type": "markdown",
   "metadata": {},
   "source": [
    "### Measure of Spread"
   ]
  },
  {
   "cell_type": "code",
   "execution_count": 53,
   "metadata": {},
   "outputs": [],
   "source": [
    "sample1 = houses['Year Built'].sample(50, random_state = 1)\n",
    "sample2 = houses['Year Built'].sample(50, random_state = 2)"
   ]
  },
  {
   "cell_type": "code",
   "execution_count": 58,
   "metadata": {},
   "outputs": [
    {
     "data": {
      "text/plain": [
       "(array([ 1.,  1.,  1.,  7.,  3.,  6.,  6.,  8.,  3., 14.]),\n",
       " array([1880. , 1892.8, 1905.6, 1918.4, 1931.2, 1944. , 1956.8, 1969.6,\n",
       "        1982.4, 1995.2, 2008. ]),\n",
       " <a list of 10 Patch objects>)"
      ]
     },
     "execution_count": 58,
     "metadata": {},
     "output_type": "execute_result"
    },
    {
     "data": {
      "image/png": "[encoded data removed]",
      "text/plain": [
       "<Figure size 864x432 with 2 Axes>"
      ]
     },
     "metadata": {
      "needs_background": "light"
     },
     "output_type": "display_data"
    }
   ],
   "source": [
    "plt.figure(figsize=(12,6))\n",
    "plt.subplot(1,2,1)\n",
    "plt.hist(sample1)\n",
    "plt.subplot(1,2,2)\n",
    "plt.hist(sample2)"
   ]
  },
  {
   "cell_type": "markdown",
   "metadata": {},
   "source": [
    "### Sample Standard Deviation\n",
    "\n",
    "<center>\n",
    "$\\large SD_{sample}$= $\\large \\sqrt\\frac{(x_1-\\bar{x})^2+(x_2-\\bar{x})^2+...+(x_n-\\bar{x})^2}{n}$\n",
    "</center>\n",
    "<br>\n",
    "<center>\n",
    "= $\\large \\sqrt \\frac{\\sum_{i=1}^n(x_i - \\bar{x})^2}{n}$\n",
    "</center>"
   ]
  },
  {
   "cell_type": "code",
   "execution_count": 60,
   "metadata": {},
   "outputs": [],
   "source": [
    "std_list = []\n",
    "for i in range(5000):\n",
    "    data = houses['SalePrice'].sample(10,random_state=i)\n",
    "    std_list.append(np.std(data))\n"
   ]
  },
  {
   "cell_type": "code",
   "execution_count": 61,
   "metadata": {},
   "outputs": [
    {
     "data": {
      "text/plain": [
       "<matplotlib.lines.Line2D at 0x124d5fb50>"
      ]
     },
     "execution_count": 61,
     "metadata": {},
     "output_type": "execute_result"
    },
    {
     "data": {
      "image/png": "[encoded data removed]",
      "text/plain": [
       "<Figure size 432x288 with 1 Axes>"
      ]
     },
     "metadata": {
      "needs_background": "light"
     },
     "output_type": "display_data"
    }
   ],
   "source": [
    "plt.hist(std_list)\n",
    "plt.axvline(houses['SalePrice'].std())"
   ]
  },
  {
   "cell_type": "markdown",
   "metadata": {},
   "source": [
    "most sample standard deviations are clustered below the population standard deviation"
   ]
  },
  {
   "cell_type": "code",
   "execution_count": 67,
   "metadata": {},
   "outputs": [
    {
     "name": "stdout",
     "output_type": "stream",
     "text": [
      "71303.64762671624\n",
      "79886.692356665\n"
     ]
    }
   ],
   "source": [
    "# mean of the 5000 sample standard deviations is below the population standard deviation\n",
    "print(sum(std_list)/5000)\n",
    "print(houses['SalePrice'].std())"
   ]
  },
  {
   "cell_type": "markdown",
   "metadata": {},
   "source": [
    "sample standard deviation underestimates on average the population standard deviation. Some sample standard deviations are lower than the population standard deviation, some are greater, some may even be equal to the population standard deviation, but on average the sample standard deviation is lower than the population standard deviation.\n",
    "\n",
    "We can get a good intuition for why the sample standard deviation underestimates if we think in terms of distribution spread. When we sample a population, it's generally more likely to get a sample with a spread that's lower than the population's spread. This generally translates to a lower standard deviation than in the population."
   ]
  },
  {
   "cell_type": "markdown",
   "metadata": {},
   "source": [
    "<img src=\"img/s2m4_less_var.svg\">"
   ]
  },
  {
   "cell_type": "markdown",
   "metadata": {},
   "source": [
    "Getting a sample with a higher standard deviation than in the population is possible, but this is less likely. This is mostly specific to samples with a high spread and no clusters."
   ]
  },
  {
   "cell_type": "markdown",
   "metadata": {},
   "source": [
    "<img src='img/s2m4_more_var.svg'>"
   ]
  },
  {
   "cell_type": "markdown",
   "metadata": {},
   "source": [
    "### Sample Standard Deviation , Bessel Correction\n",
    "\n",
    "<br>\n",
    "<center>\n",
    "$\\large SD_{sample}$= $\\large \\sqrt\\frac{(x_1-\\bar{x})^2+(x_2-\\bar{x})^2+...+(x_n-\\bar{x})^2}{n-1}$\n",
    "</center>\n",
    "<br>\n",
    "<center>\n",
    "= $\\large \\sqrt \\frac{\\sum_{i=1}^n(x_i - \\bar{x})^2}{n-1}$\n",
    "</center>"
   ]
  },
  {
   "cell_type": "markdown",
   "metadata": {},
   "source": [
    "\n",
    "### Standard Notation\n",
    "\n",
    "\n",
    "\n",
    "<img src=\"img/s2m4_bessel.png\">"
   ]
  },
  {
   "cell_type": "markdown",
   "metadata": {},
   "source": [
    "* mean of the 5000 sample standard deviations without Bessel's correction is roughly 71304, \n",
    "\n",
    "* the mean standard deviation of the sample standard deviations having the correction is roughly 75161. \n",
    "\n",
    "> This is significantly closer to the population standard deviation, which is approximately 79873."
   ]
  },
  {
   "cell_type": "markdown",
   "metadata": {},
   "source": [
    "* Population\n",
    "\n",
    "    * Population Standard Deviation\n",
    "<br>\n",
    "<center>\n",
    "$\\large \\sigma$= $\\large \\sqrt\\frac{(x_1-\\bar{x})^2+(x_2-\\bar{x})^2+...+(x_n-\\bar{x})^2}{n-1}$\n",
    "</center>\n",
    "<br>\n",
    "    \n",
    "    * Population Variance\n",
    "    \n",
    "<center>\n",
    "$\\large \\sigma^2$= $\\large \\sqrt \\frac{\\sum_{i=1}^n(x_i - \\bar{x})^2}{n-1}$\n",
    "</center>\n",
    "\n",
    "* Sample\n",
    "\n",
    "    * Sample Standard Deviation\n",
    "<br>\n",
    "<center>\n",
    "$\\large s$= $\\large \\sqrt\\frac{(x_1-\\bar{x})^2+(x_2-\\bar{x})^2+...+(x_n-\\bar{x})^2}{n-1}$\n",
    "</center>\n",
    "<br>\n",
    "\n",
    "    * Sample Variance\n",
    "    \n",
    "<center>\n",
    "$\\large s^2$= $\\large \\sqrt \\frac{\\sum_{i=1}^n(x_i - \\bar{x})^2}{n-1}$\n",
    "</center>"
   ]
  },
  {
   "cell_type": "code",
   "execution_count": 70,
   "metadata": {},
   "outputs": [],
   "source": [
    "sample = houses.sample(100, random_state = 1)\n",
    "from numpy import std, var"
   ]
  },
  {
   "cell_type": "code",
   "execution_count": null,
   "metadata": {},
   "outputs": [],
   "source": []
  }
 ],
 "metadata": {
  "kernelspec": {
   "display_name": "Python 3",
   "language": "python",
   "name": "python3"
  },
  "language_info": {
   "codemirror_mode": {
    "name": "ipython",
    "version": 3
   },
   "file_extension": ".py",
   "mimetype": "text/x-python",
   "name": "python",
   "nbconvert_exporter": "python",
   "pygments_lexer": "ipython3",
   "version": "3.7.4"
  }
 },
 "nbformat": 4,
 "nbformat_minor": 2
}
