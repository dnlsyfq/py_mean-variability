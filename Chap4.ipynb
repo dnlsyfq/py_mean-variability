{
 "cells": [
  {
   "cell_type": "code",
   "execution_count": 4,
   "metadata": {},
   "outputs": [],
   "source": [
    "import numpy as np\n",
    "import pandas as pd\n",
    "houses = pd.read_table('AmesHousing_1.txt',sep='\\t')"
   ]
  },
  {
   "cell_type": "code",
   "execution_count": 2,
   "metadata": {},
   "outputs": [],
   "source": [
    "A = np.array([4,4,4,4])\n",
    "B = np.array([0,8,0,8])"
   ]
  },
  {
   "cell_type": "code",
   "execution_count": 3,
   "metadata": {},
   "outputs": [
    {
     "name": "stdout",
     "output_type": "stream",
     "text": [
      "4.0\n",
      "4.0\n"
     ]
    }
   ],
   "source": [
    "print(A.mean())\n",
    "print(B.mean())"
   ]
  },
  {
   "cell_type": "markdown",
   "metadata": {},
   "source": [
    "### Measure of Variability (Range)\n",
    "\n",
    "To **measure the variability**/**range** of a distribution :\n",
    "\n",
    "* to find the difference between the maximum and the minimum value.\n",
    "\n",
    "<center>\n",
    "$max(A) - min(A)$\n",
    "\n",
    "$max(B) - max(B)$\n",
    "\n",
    "$range(X) = max(X) - min(X)$\n",
    "</center>"
   ]
  },
  {
   "cell_type": "code",
   "execution_count": 31,
   "metadata": {},
   "outputs": [],
   "source": [
    "def todict(row):\n",
    "    range_dict = {}\n",
    "    range_dict[row['Yr Sold']] = row['SalePrice']\n",
    "    return range_dict"
   ]
  },
  {
   "cell_type": "code",
   "execution_count": 32,
   "metadata": {},
   "outputs": [],
   "source": [
    "range_by_year = houses.groupby('Yr Sold')['SalePrice'].\\\n",
    "apply(lambda x: x.max() - x.min()).reset_index().\\\n",
    "apply(todict,axis=1)\n",
    "        "
   ]
  },
  {
   "cell_type": "code",
   "execution_count": 33,
   "metadata": {},
   "outputs": [
    {
     "data": {
      "text/plain": [
       "[{2006: 590000},\n",
       " {2007: 715700},\n",
       " {2008: 601900},\n",
       " {2009: 575100},\n",
       " {2010: 598868}]"
      ]
     },
     "execution_count": 33,
     "metadata": {},
     "output_type": "execute_result"
    }
   ],
   "source": [
    "range_by_year.tolist()"
   ]
  },
  {
   "cell_type": "code",
   "execution_count": 30,
   "metadata": {},
   "outputs": [],
   "source": [
    "def find_range(arr):\n",
    "    return arr.max() - arr.min()"
   ]
  },
  {
   "cell_type": "code",
   "execution_count": 35,
   "metadata": {},
   "outputs": [],
   "source": [
    "range_by_year = {}\n",
    "for i in houses['Yr Sold'].unique():\n",
    "    filter_df = houses[houses['Yr Sold']==i]\n",
    "    range_by_year[i]=find_range(filter_df['SalePrice'])\n",
    "    "
   ]
  },
  {
   "cell_type": "code",
   "execution_count": 36,
   "metadata": {},
   "outputs": [
    {
     "data": {
      "text/plain": [
       "{2010: 598868, 2009: 575100, 2008: 601900, 2007: 715700, 2006: 590000}"
      ]
     },
     "execution_count": 36,
     "metadata": {},
     "output_type": "execute_result"
    }
   ],
   "source": [
    "range_by_year"
   ]
  },
  {
   "cell_type": "code",
   "execution_count": 38,
   "metadata": {},
   "outputs": [
    {
     "name": "stdout",
     "output_type": "stream",
     "text": [
      "2010 598868\n",
      "2009 575100\n",
      "2008 601900\n",
      "2007 715700\n",
      "2006 590000\n"
     ]
    }
   ],
   "source": [
    "for k,v in range_by_year.items():\n",
    "    print(k,v)"
   ]
  },
  {
   "cell_type": "markdown",
   "metadata": {},
   "source": [
    "### Average Distance\n"
   ]
  },
  {
   "cell_type": "markdown",
   "metadata": {},
   "source": [
    "<center>\n",
    "average distance = $\\large \\frac{(x_1-\\mu)+(x_2-\\mu)+...+(x_n-\\mu)}{N}$\n",
    "</center>\n",
    "<br>\n",
    "<center>\n",
    "= $\\large \\frac{\\sum_{i=1}^n(x_i - \\mu)}{N}$\n",
    "</center>"
   ]
  },
  {
   "cell_type": "code",
   "execution_count": 43,
   "metadata": {},
   "outputs": [],
   "source": [
    "def average_distance(arr):\n",
    "    mean = np.mean(arr)\n",
    "    lst = []\n",
    "    for value in arr:\n",
    "        lst.append(value-mean)\n",
    "    return np.mean(lst)"
   ]
  },
  {
   "cell_type": "code",
   "execution_count": 44,
   "metadata": {},
   "outputs": [],
   "source": [
    "C = [1,1,1,1,1,1,1,1,1,21]"
   ]
  },
  {
   "cell_type": "code",
   "execution_count": 45,
   "metadata": {},
   "outputs": [
    {
     "data": {
      "text/plain": [
       "0.0"
      ]
     },
     "execution_count": 45,
     "metadata": {},
     "output_type": "execute_result"
    }
   ],
   "source": [
    "avg_distance = average_distance(C)\n",
    "avg_distance"
   ]
  },
  {
   "cell_type": "markdown",
   "metadata": {},
   "source": [
    "### Mean Absolute Deviation @ Average Absolute Deviation"
   ]
  },
  {
   "cell_type": "markdown",
   "metadata": {},
   "source": [
    "<center>\n",
    "mean absolute distance = $\\large \\frac{|x_1-\\mu|+|x_2-\\mu|+...+|x_n-\\mu|}{N}$\n",
    "</center>\n",
    "<br>\n",
    "<center>\n",
    "= $\\large \\frac{\\sum_{i=1}^n|x_i - \\mu|}{N}$\n",
    "</center>"
   ]
  },
  {
   "cell_type": "code",
   "execution_count": 46,
   "metadata": {},
   "outputs": [],
   "source": [
    "def mean_distance(arr):\n",
    "    mean = np.mean(arr)\n",
    "    lst = []\n",
    "    for i in arr:\n",
    "        lst.append(abs(i-mean))\n",
    "    return np.mean(lst)"
   ]
  },
  {
   "cell_type": "code",
   "execution_count": 47,
   "metadata": {},
   "outputs": [
    {
     "data": {
      "text/plain": [
       "3.6"
      ]
     },
     "execution_count": 47,
     "metadata": {},
     "output_type": "execute_result"
    }
   ],
   "source": [
    "mad = mean_distance(C)\n",
    "mad"
   ]
  },
  {
   "cell_type": "markdown",
   "metadata": {},
   "source": [
    "### Variance"
   ]
  },
  {
   "cell_type": "markdown",
   "metadata": {},
   "source": [
    "measure of variability is sometimes called mean squared distance or mean squared deviation (remember that \"distance\" and \"deviation\" are synonymous in this context). However, it's more commonly known as variance."
   ]
  },
  {
   "cell_type": "markdown",
   "metadata": {},
   "source": [
    "<center>\n",
    "variance = mean squared distance = $\\large \\frac{(x_1-\\mu)^2+(x_2-\\mu)^2+...+(x_n-\\mu)^2}{N}$\n",
    "</center>\n",
    "<br>\n",
    "<center>\n",
    "= $\\large \\frac{\\sum_{i=1}^N(x_i - \\mu)^2}{N}$\n",
    "</center>"
   ]
  },
  {
   "cell_type": "markdown",
   "metadata": {},
   "source": [
    "**Squaring the distances** or **taking their absolute values** ensure that we get a **variability value that is greater than 0** for all distributions that show some variability. \n",
    "\n",
    "> Notice, however, that variance and mean absolute deviation will still be 0 for distributions that show no variability."
   ]
  },
  {
   "cell_type": "code",
   "execution_count": 48,
   "metadata": {},
   "outputs": [],
   "source": [
    "D = [2,2,2,2]"
   ]
  },
  {
   "cell_type": "code",
   "execution_count": 49,
   "metadata": {},
   "outputs": [
    {
     "data": {
      "text/plain": [
       "0.0"
      ]
     },
     "execution_count": 49,
     "metadata": {},
     "output_type": "execute_result"
    }
   ],
   "source": [
    "mean_distance(D)"
   ]
  },
  {
   "cell_type": "code",
   "execution_count": 50,
   "metadata": {},
   "outputs": [],
   "source": [
    "def variance_distance(arr):\n",
    "    mean = np.mean(arr)\n",
    "    lst = []\n",
    "    for i in arr:\n",
    "        mean_squared = (i-mean)**2\n",
    "        lst.append(mean_squared)\n",
    "    return np.mean(lst)"
   ]
  },
  {
   "cell_type": "code",
   "execution_count": 51,
   "metadata": {},
   "outputs": [
    {
     "data": {
      "text/plain": [
       "36.0"
      ]
     },
     "execution_count": 51,
     "metadata": {},
     "output_type": "execute_result"
    }
   ],
   "source": [
    "variance_distance(C)"
   ]
  },
  {
   "cell_type": "code",
   "execution_count": null,
   "metadata": {},
   "outputs": [],
   "source": []
  }
 ],
 "metadata": {
  "kernelspec": {
   "display_name": "Python 3",
   "language": "python",
   "name": "python3"
  },
  "language_info": {
   "codemirror_mode": {
    "name": "ipython",
    "version": 3
   },
   "file_extension": ".py",
   "mimetype": "text/x-python",
   "name": "python",
   "nbconvert_exporter": "python",
   "pygments_lexer": "ipython3",
   "version": "3.7.4"
  }
 },
 "nbformat": 4,
 "nbformat_minor": 2
}
